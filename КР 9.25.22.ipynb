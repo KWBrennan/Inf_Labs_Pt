{
 "cells": [
  {
   "cell_type": "markdown",
   "id": "6d074ed7",
   "metadata": {},
   "source": [
    "# Базовый Питон"
   ]
  },
  {
   "cell_type": "markdown",
   "id": "5cf7abd0",
   "metadata": {},
   "source": [
    "Задача 1"
   ]
  },
  {
   "cell_type": "code",
   "execution_count": 1,
   "id": "f67fb96a",
   "metadata": {},
   "outputs": [
    {
     "name": "stdout",
     "output_type": "stream",
     "text": [
      "583\n",
      "58\n"
     ]
    }
   ],
   "source": [
    "x = int(input())\n",
    "if x >= 10:\n",
    "    y = x//10\n",
    "    print(y)\n",
    "else:\n",
    "    print('-1')"
   ]
  },
  {
   "cell_type": "markdown",
   "id": "6f829732",
   "metadata": {},
   "source": [
    "Задача 2"
   ]
  },
  {
   "cell_type": "code",
   "execution_count": 9,
   "id": "f6a12fae",
   "metadata": {},
   "outputs": [
    {
     "name": "stdout",
     "output_type": "stream",
     "text": [
      "te101net\n"
     ]
    },
    {
     "data": {
      "text/plain": [
       "True"
      ]
     },
     "execution_count": 9,
     "metadata": {},
     "output_type": "execute_result"
    }
   ],
   "source": [
    "s = str(input())\n",
    "s = s.replace(' ','')\n",
    "for j in range(0, 9):\n",
    "    s = s.replace(str(j), '')\n",
    "l = len(s)\n",
    "l_prv = l // 2\n",
    "s_lev = s[:l // 2]\n",
    "s_prv = s[l // 2:]\n",
    "s_prv_rev = str()\n",
    "for i in range(1, l_prv + 1):\n",
    "    s_prv_rev += s_prv[-1 * i]\n",
    "bool(s_lev == s_prv_rev)"
   ]
  },
  {
   "cell_type": "markdown",
   "id": "092f019f",
   "metadata": {},
   "source": [
    "Задача 7"
   ]
  },
  {
   "cell_type": "code",
   "execution_count": 11,
   "id": "63fc1cf4",
   "metadata": {},
   "outputs": [
    {
     "name": "stdout",
     "output_type": "stream",
     "text": [
      "2022.9.25\n"
     ]
    },
    {
     "data": {
      "text/plain": [
       "True"
      ]
     },
     "execution_count": 11,
     "metadata": {},
     "output_type": "execute_result"
    }
   ],
   "source": [
    "s = str(input())\n",
    "s = s.split('.')\n",
    "x = 0\n",
    "y = 1\n",
    "if int(s[1]) > 12 or int(s[1]) < 1:\n",
    "    x = 0\n",
    "elif int(s[2]) < 1:\n",
    "    x = 0\n",
    "elif int(s[1]) == 1 and int(s[2]) > 31:\n",
    "    x = 0\n",
    "elif int(s[1]) == 3 and int(s[2]) > 31:\n",
    "    x = 0\n",
    "elif int(s[1]) == 5 and int(s[2]) > 31:\n",
    "    x = 0\n",
    "elif int(s[1]) == 7 and int(s[2]) > 31:\n",
    "    x = 0\n",
    "elif int(s[1]) == 8 and int(s[2]) > 31:\n",
    "    x = 0\n",
    "elif int(s[1]) == 10 and int(s[2]) > 31:\n",
    "    x = 0\n",
    "elif int(s[1]) == 12 and int(s[2]) > 31:\n",
    "    x = 0\n",
    "elif int(s[1]) == 4 and int(s[2]) > 30:\n",
    "    x = 0\n",
    "elif int(s[1]) == 6 and int(s[2]) > 30:\n",
    "    x = 0\n",
    "elif int(s[1]) == 9 and int(s[2]) > 30:\n",
    "    x = 0\n",
    "elif int(s[1]) == 11 and int(s[2]) > 30:\n",
    "    x = 0\n",
    "elif int(s[1]) == 2 and int(s[2]) > 28 and int(s[0]) % 4 != 0:\n",
    "    x = 0\n",
    "elif int(s[1]) == 2 and int(s[2]) > 29 and int(s[0]) % 4 == 0:\n",
    "    x = 0\n",
    "else:\n",
    "    x = 1\n",
    "bool(x == y)"
   ]
  },
  {
   "cell_type": "markdown",
   "id": "e39f48c8",
   "metadata": {},
   "source": [
    "Задача 5"
   ]
  },
  {
   "cell_type": "code",
   "execution_count": 50,
   "id": "3b42cd92",
   "metadata": {},
   "outputs": [
    {
     "name": "stdout",
     "output_type": "stream",
     "text": [
      "100\n",
      "2\n"
     ]
    }
   ],
   "source": [
    "n = int(input())\n",
    "Ans = []\n",
    "d = 2\n",
    "while d * d <= n:\n",
    "    if n % d == 0:\n",
    "        Ans.append(d)\n",
    "        n //= d\n",
    "    else:\n",
    "        d += 1\n",
    "if n > 1:\n",
    "    Ans.append(n)\n",
    "l = len(Ans)\n",
    "c = 0\n",
    "n = Ans\n",
    "for i in Ans:\n",
    "    curr_fr = Ans.count(i)\n",
    "    if(curr_fr> c):\n",
    "        c = curr_fr\n",
    "        n = i\n",
    "klmn = Ans.count(n)\n",
    "print(klmn)"
   ]
  },
  {
   "cell_type": "markdown",
   "id": "07a9c3f8",
   "metadata": {},
   "source": [
    "Задача 6"
   ]
  },
  {
   "cell_type": "code",
   "execution_count": 69,
   "id": "43571379",
   "metadata": {},
   "outputs": [
    {
     "name": "stdout",
     "output_type": "stream",
     "text": [
      "-0.99\n",
      "-1.0\n"
     ]
    }
   ],
   "source": [
    "s = str(input())\n",
    "l = len(s)\n",
    "n = float(s)\n",
    "if '.' in s:\n",
    "    ds = s.split('.')\n",
    "    dl = len(ds[1])\n",
    "    n = n - 10**-dl\n",
    "else:\n",
    "    n = int(n - 1)\n",
    "print(str(n))"
   ]
  },
  {
   "cell_type": "markdown",
   "id": "db249825",
   "metadata": {},
   "source": [
    "## Numpy"
   ]
  },
  {
   "cell_type": "markdown",
   "id": "5e9edd07",
   "metadata": {},
   "source": [
    "Задача 1"
   ]
  },
  {
   "cell_type": "code",
   "execution_count": 132,
   "id": "59b79474",
   "metadata": {},
   "outputs": [
    {
     "name": "stdout",
     "output_type": "stream",
     "text": [
      "146\n",
      "321\n",
      "51.38\n"
     ]
    }
   ],
   "source": [
    "import numpy as np\n",
    "a_ = list(input())\n",
    "b_ = list(input())\n",
    "a = np.array(a_)\n",
    "b = np.array(b_)\n",
    "pr = float(a[0]) * float(b[0]) + float(a[1]) * float(b[1]) + float(a[2]) * float(b[2])\n",
    "dl = np.sqrt(float(a[0]) ** 2 + float(a[1]) ** 2 + float(a[2]) ** 2) * np.sqrt(float(b[0]) ** 2 + float(b[1]) ** 2 + float(b[2]) ** 2)\n",
    "cos_degree = pr / dl\n",
    "degree = (np.arccos(cos_degree) * 180) / np.pi\n",
    "print(round(degree, 2))"
   ]
  },
  {
   "cell_type": "markdown",
   "id": "f511f209",
   "metadata": {},
   "source": [
    "Задача 2"
   ]
  },
  {
   "cell_type": "code",
   "execution_count": 94,
   "id": "bfa7ef23",
   "metadata": {},
   "outputs": [
    {
     "name": "stdout",
     "output_type": "stream",
     "text": [
      "555432\n",
      "0\n"
     ]
    }
   ],
   "source": [
    "n = int(input())\n",
    "p = list(str(n))\n",
    "if len(p) == 1:\n",
    "    e = 1\n",
    "c = 0\n",
    "for i in p:\n",
    "    curr_fr = p.count(i)\n",
    "    if(curr_fr> c):\n",
    "        c = curr_fr\n",
    "        n = i\n",
    "klmn = p.count(n)\n",
    "peres = 0\n",
    "for i in range(0,len(p)):\n",
    "    j = i + 1\n",
    "    for j in range(j, len(p)):\n",
    "        if p[i] > p[j]: \n",
    "            peres = peres + 1\n",
    "if (peres % 2) == 0:\n",
    "    e = 1\n",
    "else:\n",
    "    e = -1\n",
    "if klmn > 1:\n",
    "    e = 0\n",
    "print(e)"
   ]
  },
  {
   "cell_type": "markdown",
   "id": "3f1157e2",
   "metadata": {},
   "source": [
    "Задача 5 (task.template)"
   ]
  },
  {
   "cell_type": "code",
   "execution_count": 137,
   "id": "288df2d1",
   "metadata": {},
   "outputs": [
    {
     "name": "stdout",
     "output_type": "stream",
     "text": [
      "[[22 28]\n",
      " [49 64]]\n"
     ]
    }
   ],
   "source": [
    "A = np.array([[1,2,3],[4,5,6]])\n",
    "B = np.array([[1,2],[3,4],[5,6]])\n",
    "ans = np.dot(A, B)\n",
    "print(ans)"
   ]
  },
  {
   "cell_type": "markdown",
   "id": "7624915a",
   "metadata": {},
   "source": [
    "## Pandas"
   ]
  },
  {
   "cell_type": "markdown",
   "id": "758a8c85",
   "metadata": {},
   "source": [
    "Задача 1"
   ]
  },
  {
   "cell_type": "code",
   "execution_count": null,
   "id": "ab6d61ad",
   "metadata": {},
   "outputs": [],
   "source": []
  }
 ],
 "metadata": {
  "kernelspec": {
   "display_name": "Python 3 (ipykernel)",
   "language": "python",
   "name": "python3"
  },
  "language_info": {
   "codemirror_mode": {
    "name": "ipython",
    "version": 3
   },
   "file_extension": ".py",
   "mimetype": "text/x-python",
   "name": "python",
   "nbconvert_exporter": "python",
   "pygments_lexer": "ipython3",
   "version": "3.9.12"
  }
 },
 "nbformat": 4,
 "nbformat_minor": 5
}
